{
  "nbformat": 4,
  "nbformat_minor": 0,
  "metadata": {
    "colab": {
      "provenance": [],
      "authorship_tag": "ABX9TyPzbSPCptFafi04QxU/bFNc",
      "include_colab_link": true
    },
    "kernelspec": {
      "name": "python3",
      "display_name": "Python 3"
    },
    "language_info": {
      "name": "python"
    }
  },
  "cells": [
    {
      "cell_type": "markdown",
      "metadata": {
        "id": "view-in-github",
        "colab_type": "text"
      },
      "source": [
        "<a href=\"https://colab.research.google.com/github/doumsdd/PnamaSQL/blob/main/PanamapapersSQL.ipynb\" target=\"_parent\"><img src=\"https://colab.research.google.com/assets/colab-badge.svg\" alt=\"Open In Colab\"/></a>"
      ]
    },
    {
      "cell_type": "code",
      "execution_count": 2,
      "metadata": {
        "colab": {
          "base_uri": "https://localhost:8080/"
        },
        "id": "0nb8hJsjjbSY",
        "outputId": "f125928f-6b2e-45f3-eb8c-0c17108dafb7"
      },
      "outputs": [
        {
          "output_type": "execute_result",
          "data": {
            "text/plain": [
              "['source',\n",
              " 'status',\n",
              " 'country',\n",
              " 'address',\n",
              " 'intermediary',\n",
              " 'entity',\n",
              " 'officer',\n",
              " 'assoc_officer_entity',\n",
              " 'assoc_inter_entity',\n",
              " 'assoc_officers',\n",
              " 'assoc_intermediaries',\n",
              " 'assoc_entities',\n",
              " 'assoc_inter_offi',\n",
              " 'assoc_officer_interm']"
            ]
          },
          "metadata": {},
          "execution_count": 2
        }
      ],
      "source": [
        "import sqlite3\n",
        "\n",
        "# Establish a connection to the SQLite database\n",
        "conn = sqlite3.connect(\"/content/panamapapers.sqlite3\")\n",
        "\n",
        "# Create a cursor object\n",
        "cur = conn.cursor()\n",
        "\n",
        "# Execute a query to get the list of all tables in the database\n",
        "cur.execute(\"SELECT name FROM sqlite_master WHERE type='table';\")\n",
        "\n",
        "# Fetch the result\n",
        "tables = cur.fetchall()\n",
        "\n",
        "# Close the cursor and the connection\n",
        "cur.close()\n",
        "conn.close()\n",
        "\n",
        "# The query returns a list of tuples. We will transform this into a simple list of table names.\n",
        "table_names = [table[0] for table in tables]\n",
        "\n",
        "table_names\n"
      ]
    },
    {
      "cell_type": "code",
      "source": [
        "# Pour répondre à la première question, nous devons probablement examiner la table 'entity' et la table 'source'.\n",
        "# Cependant, nous avons besoin de plus d'informations sur la structure de ces tables. Allons voir les schémas de ces tables.\n",
        "# Create a function to get the schema of a table\n",
        "def get_table_schema(conn, table_name):\n",
        "    cur = conn.cursor()\n",
        "    cur.execute(f\"PRAGMA table_info({table_name});\")\n",
        "    schema = cur.fetchall()\n",
        "    cur.close()\n",
        "    return schema\n",
        "\n",
        "# Establish a connection to the SQLite database\n",
        "conn = sqlite3.connect(\"/content/panamapapers.sqlite3\")\n",
        "\n",
        "# Get the schema of the 'entity' and 'source' tables\n",
        "entity_schema = get_table_schema(conn, 'entity')\n",
        "source_schema = get_table_schema(conn, 'source')\n",
        "\n",
        "conn.close()\n",
        "\n",
        "(entity_schema, source_schema)"
      ],
      "metadata": {
        "id": "xBmFSZ-c9Iaj",
        "colab": {
          "base_uri": "https://localhost:8080/"
        },
        "outputId": "80b1d0dc-87e5-4c3d-ba69-6956fe08dcf6"
      },
      "execution_count": 3,
      "outputs": [
        {
          "output_type": "execute_result",
          "data": {
            "text/plain": [
              "([(0, 'id', 'INTEGER', 0, None, 1),\n",
              "  (1, 'name', 'TEXT', 0, None, 0),\n",
              "  (2, 'jurisdiction', 'TEXT', 0, None, 0),\n",
              "  (3, 'jurisdiction_description', 'TEXT', 0, None, 0),\n",
              "  (4, 'incorporation_date', 'DATE', 0, None, 0),\n",
              "  (5, 'status', 'TEXT', 0, None, 0),\n",
              "  (6, 'service_provider', 'TEXT', 0, None, 0),\n",
              "  (7, 'source', 'TEXT', 0, None, 0),\n",
              "  (8, 'note', 'TEXT', 0, None, 0),\n",
              "  (9, 'id_address', 'BIGINT', 0, None, 0),\n",
              "  (10, 'end_date', 'DATE', 0, None, 0),\n",
              "  (11, 'url', 'TEXT', 0, None, 0),\n",
              "  (12, 'lifetime', 'INTEGER', 0, None, 0)],\n",
              " [(0, 'id', 'INTEGER', 0, None, 1), (1, 'source', 'TEXT', 0, None, 0)])"
            ]
          },
          "metadata": {},
          "execution_count": 3
        }
      ]
    },
    {
      "cell_type": "code",
      "source": [
        "#Pour répondre à la première question (\"Combien la base de données contient-elle de sociétés offshores différentes dont la source est 'Panama Papers'?\"),\n",
        "#nous devons compter le nombre de lignes uniques dans la table 'entity' où la colonne 'source' est égale à 'Panama Papers'.\n",
        "\n",
        "# Establish a connection to the SQLite database\n",
        "conn = sqlite3.connect(\"/content/panamapapers.sqlite3\")\n",
        "\n",
        "# Create a cursor object\n",
        "cur = conn.cursor()\n",
        "\n",
        "# Execute a query to count the number of unique entities where source is 'Panama Papers'\n",
        "cur.execute(\"SELECT COUNT(DISTINCT id) FROM entity WHERE source = 'Panama Papers';\")\n",
        "\n",
        "# Fetch the result\n",
        "num_entities_panama_papers = cur.fetchone()[0]\n",
        "\n",
        "# Close the cursor and the connection\n",
        "cur.close()\n",
        "conn.close()\n",
        "\n",
        "num_entities_panama_papers\n"
      ],
      "metadata": {
        "colab": {
          "base_uri": "https://localhost:8080/"
        },
        "id": "QBG9opRP-CFs",
        "outputId": "b87de82e-a5a1-4014-f597-05e8ef30fcbe"
      },
      "execution_count": 4,
      "outputs": [
        {
          "output_type": "execute_result",
          "data": {
            "text/plain": [
              "213634"
            ]
          },
          "metadata": {},
          "execution_count": 4
        }
      ]
    },
    {
      "cell_type": "markdown",
      "source": [
        "Pour répondre à la deuxième question (\"Quel intermédiaire a créé le plus de sociétés offshores ? A-t-on son adresse et son pays ?\"), nous devons faire une jointure entre ces deux tables sur l'identifiant de l'intermédiaire, puis compter le nombre d'entités associées à chaque intermédiaire. Ensuite, nous trierons les résultats par ordre décroissant et prendrons le premier.\n",
        "\n",
        "Exécutons cette requête maintenant. Nous devons également joindre la table 'address' pour obtenir l'adresse de l'intermédiaire. Obtenons d'abord le schéma de la table 'address'."
      ],
      "metadata": {
        "id": "6epRSKVYAqp2"
      }
    },
    {
      "cell_type": "code",
      "source": [
        "# Establish a connection to the SQLite database\n",
        "conn = sqlite3.connect(\"/content/panamapapers.sqlite3\")\n",
        "\n",
        "# Get the schema of the 'address' table\n",
        "address_schema = get_table_schema(conn, 'address')\n",
        "\n",
        "conn.close()\n",
        "\n",
        "address_schema\n"
      ],
      "metadata": {
        "colab": {
          "base_uri": "https://localhost:8080/"
        },
        "id": "3vZMC2jk-4Ad",
        "outputId": "a5f20ce8-d0f9-40c5-a8da-307fe9a3641f"
      },
      "execution_count": 5,
      "outputs": [
        {
          "output_type": "execute_result",
          "data": {
            "text/plain": [
              "[(0, 'address', 'TEXT', 0, None, 0),\n",
              " (1, 'countries', 'TEXT', 0, None, 0),\n",
              " (2, 'country_codes', 'TEXT', 0, None, 0),\n",
              " (3, 'id_address', 'BIGINT', 0, None, 1),\n",
              " (4, 'source_id', 'INTEGER', 0, None, 0)]"
            ]
          },
          "metadata": {},
          "execution_count": 5
        }
      ]
    },
    {
      "cell_type": "code",
      "source": [],
      "metadata": {
        "id": "WzZtBDXZAzhQ"
      },
      "execution_count": null,
      "outputs": []
    },
    {
      "cell_type": "markdown",
      "source": [
        "La table 'address' a les colonnes suivantes :\n",
        "\n",
        "'address'\n",
        "'countries'\n",
        "'country_codes'\n",
        "'id_address'\n",
        "'source_id'\n",
        "Maintenant, joignons les trois tables 'intermediary', 'assoc_inter_entity', et 'address' pour trouver l'intermédiaire qui a créé le plus de sociétés offshores, ainsi que son adresse et son pays."
      ],
      "metadata": {
        "id": "fBF-CJlSA1qo"
      }
    },
    {
      "cell_type": "code",
      "source": [
        "# Establish a connection to the SQLite database\n",
        "conn = sqlite3.connect(\"/content/panamapapers.sqlite3\")\n",
        "\n",
        "# Create a cursor object\n",
        "cur = conn.cursor()\n",
        "\n",
        "# Execute a query to find the intermediary who created the most offshore companies\n",
        "cur.execute(\"\"\"\n",
        "    SELECT\n",
        "        intermediary.name,\n",
        "        COUNT(assoc_inter_entity.entity) AS num_entities,\n",
        "        address.address,\n",
        "        address.countries\n",
        "    FROM intermediary\n",
        "    INNER JOIN assoc_inter_entity ON intermediary.id = assoc_inter_entity.inter\n",
        "    LEFT JOIN address ON intermediary.id_address = address.id_address\n",
        "    GROUP BY intermediary.id\n",
        "    ORDER BY num_entities DESC\n",
        "    LIMIT 1;\n",
        "\"\"\")\n",
        "\n",
        "# Fetch the result\n",
        "top_intermediary = cur.fetchone()\n",
        "\n",
        "# Close the cursor and the connection\n",
        "cur.close()\n",
        "conn.close()\n",
        "\n",
        "top_intermediary\n"
      ],
      "metadata": {
        "colab": {
          "base_uri": "https://localhost:8080/"
        },
        "id": "nrYvbjDcAtdT",
        "outputId": "d3bd42b7-9870-4a1b-b4c6-3fd423427ac3"
      },
      "execution_count": 6,
      "outputs": [
        {
          "output_type": "execute_result",
          "data": {
            "text/plain": [
              "('ORION HOUSE SERVICES (HK) LIMITED',\n",
              " 7016,\n",
              " 'ORION HOUSE SERVICES (HK) LIMITED ROOM 1401; 14/F.; WORLD COMMERCE  CENTRE;[...] TSUI; KOWLOON; HONG KONG',\n",
              " 'HKG')"
            ]
          },
          "metadata": {},
          "execution_count": 6
        }
      ]
    },
    {
      "cell_type": "markdown",
      "source": [
        "Passons maintenant à la troisième question.\n",
        "\n",
        "Combien la base contient-elle de bénéficiaires avec un nom unique ? Quel est le bénéficiaire dont le nom revient le plus souvent ?\n",
        "Pour répondre à cette question, nous devons examiner la table 'officer'. Commençons par explorer le schéma de cette table."
      ],
      "metadata": {
        "id": "4wJuowUBFFk4"
      }
    },
    {
      "cell_type": "code",
      "source": [
        "# Establish a connection to the SQLite database\n",
        "conn = sqlite3.connect(\"/content/panamapapers.sqlite3\")\n",
        "\n",
        "# Get the schema of the 'officer' table\n",
        "officer_schema = get_table_schema(conn, 'officer')\n",
        "\n",
        "conn.close()\n",
        "\n",
        "officer_schema\n",
        "\n"
      ],
      "metadata": {
        "colab": {
          "base_uri": "https://localhost:8080/"
        },
        "id": "eeyFjzBjBBpU",
        "outputId": "ceac9c7a-a975-428c-aa6d-3bbcacb69114"
      },
      "execution_count": 7,
      "outputs": [
        {
          "output_type": "execute_result",
          "data": {
            "text/plain": [
              "[(0, 'id', 'INTEGER', 0, None, 1),\n",
              " (1, 'name', 'TEXT', 0, None, 0),\n",
              " (2, 'source_id', 'INTEGER', 0, None, 0),\n",
              " (3, 'note', 'TEXT', 0, None, 0),\n",
              " (4, 'country_id', 'INTEGER', 0, None, 0)]"
            ]
          },
          "metadata": {},
          "execution_count": 7
        }
      ]
    },
    {
      "cell_type": "markdown",
      "source": [
        "La table 'officer' a les colonnes suivantes :\n",
        "\n",
        "'id'\n",
        "'name'\n",
        "'source_id'\n",
        "'note'\n",
        "'country_id'\n",
        "\n",
        "Pour répondre à la troisième question (\"Combien la base contient-elle de bénéficiaires avec un nom unique ? Quel est le bénéficiaire dont le nom revient le plus souvent ?\"), nous devons compter le nombre de noms uniques dans la table 'officer' et trouver le nom qui revient le plus souvent.\n",
        "\n",
        "Exécutons ces deux requêtes maintenant."
      ],
      "metadata": {
        "id": "artN6ymfMKEi"
      }
    },
    {
      "cell_type": "code",
      "source": [
        "# Establish a connection to the SQLite database\n",
        "conn = sqlite3.connect(\"/content/panamapapers.sqlite3\")\n",
        "\n",
        "# Create a cursor object\n",
        "cur = conn.cursor()\n",
        "\n",
        "# Execute a query to count the number of unique officer names\n",
        "cur.execute(\"SELECT COUNT(DISTINCT name) FROM officer;\")\n",
        "\n",
        "# Fetch the result\n",
        "num_unique_officers = cur.fetchone()[0]\n",
        "\n",
        "# Execute a query to find the officer name that occurs the most frequently\n",
        "cur.execute(\"\"\"\n",
        "    SELECT name, COUNT(*) AS num_occurrences\n",
        "    FROM officer\n",
        "    GROUP BY name\n",
        "    ORDER BY num_occurrences DESC\n",
        "    LIMIT 1;\n",
        "\"\"\")\n",
        "\n",
        "# Fetch the result\n",
        "most_common_officer = cur.fetchone()\n",
        "\n",
        "# Close the cursor and the connection\n",
        "cur.close()\n",
        "conn.close()\n",
        "\n",
        "(num_unique_officers, most_common_officer)\n"
      ],
      "metadata": {
        "colab": {
          "base_uri": "https://localhost:8080/"
        },
        "id": "-DNvLSa9BCBl",
        "outputId": "712c8f03-7285-49c7-a939-38cd31e76211"
      },
      "execution_count": 8,
      "outputs": [
        {
          "output_type": "execute_result",
          "data": {
            "text/plain": [
              "(122590, ('THE BEARER', 70850))"
            ]
          },
          "metadata": {},
          "execution_count": 8
        }
      ]
    },
    {
      "cell_type": "markdown",
      "source": [
        "La base de données contient 122 590 bénéficiaires avec un nom unique.\n",
        "\n",
        "Le bénéficiaire dont le nom revient le plus souvent est \"THE BEARER\" qui apparaît 70 850 fois.\n",
        "\n",
        "Passons maintenant à la quatrième question.\n",
        "\n",
        "Donner la liste des juridictions avec le nombre d'entreprises offshores enregistrées sur chaque territoire, triée par ordre décroissant.\n",
        "Pour répondre à cette question, nous devons regrouper les données de la table 'entity' par juridiction et compter le nombre d'entités dans chaque juridiction. Exécutons cette requête maintenant."
      ],
      "metadata": {
        "id": "OkusXJdOMWAl"
      }
    },
    {
      "cell_type": "markdown",
      "source": [
        "Voici la liste des juridictions avec le nombre d'entreprises offshores enregistrées sur chaque territoire, triée par ordre décroissant :"
      ],
      "metadata": {
        "id": "80BeYT2rMgQq"
      }
    },
    {
      "cell_type": "code",
      "source": [
        "# Establish a connection to the SQLite database\n",
        "conn = sqlite3.connect(\"/content/panamapapers.sqlite3\")\n",
        "\n",
        "# Create a cursor object\n",
        "cur = conn.cursor()\n",
        "\n",
        "# Execute a query to get the list of jurisdictions with the number of offshore companies registered in each jurisdiction\n",
        "cur.execute(\"\"\"\n",
        "    SELECT jurisdiction, COUNT(*) AS num_entities\n",
        "    FROM entity\n",
        "    GROUP BY jurisdiction\n",
        "    ORDER BY num_entities DESC;\n",
        "\"\"\")\n",
        "\n",
        "# Fetch the result\n",
        "jurisdictions = cur.fetchall()\n",
        "\n",
        "# Close the cursor and the connection\n",
        "cur.close()\n",
        "conn.close()\n",
        "\n",
        "jurisdictions\n"
      ],
      "metadata": {
        "colab": {
          "base_uri": "https://localhost:8080/"
        },
        "id": "ZbB7pyl5MRMs",
        "outputId": "43d85c63-5e24-4c4b-ca8f-3d79845d4a6f"
      },
      "execution_count": 9,
      "outputs": [
        {
          "output_type": "execute_result",
          "data": {
            "text/plain": [
              "[('BVI', 114849),\n",
              " ('PMA', 48870),\n",
              " ('BAH', 16082),\n",
              " ('SEY', 15341),\n",
              " ('NIUE', 9711),\n",
              " ('SAM', 5361),\n",
              " ('ANG', 3286),\n",
              " ('NEV', 1273),\n",
              " ('HK', 457),\n",
              " ('UK', 151),\n",
              " ('BLZ', 133),\n",
              " ('CRI', 81),\n",
              " ('CYP', 78),\n",
              " ('UY', 54),\n",
              " ('NZL', 49),\n",
              " ('JSY', 41),\n",
              " ('WYO', 39),\n",
              " ('MLT', 29),\n",
              " ('IOM', 8),\n",
              " ('RAK', 2),\n",
              " ('SGP', 1)]"
            ]
          },
          "metadata": {},
          "execution_count": 9
        }
      ]
    },
    {
      "cell_type": "markdown",
      "source": [
        "Veuillez noter que les codes des juridictions sont probablement des codes ISO à 3 lettres.\n",
        "\n",
        "Passons maintenant à la cinquième question.\n",
        "\n",
        "Regrouper les sociétés offshores par statut, et trier la liste par ordre décroissant.\n",
        "Pour répondre à cette question, nous devons regrouper les données de la table 'entity' par statut et compter le nombre d'entités pour chaque statut. Exécutons cette requête maintenant."
      ],
      "metadata": {
        "id": "62mG0i65MwY5"
      }
    },
    {
      "cell_type": "code",
      "source": [
        "# Establish a connection to the SQLite database\n",
        "conn = sqlite3.connect(\"/content/panamapapers.sqlite3\")\n",
        "\n",
        "# Create a cursor object\n",
        "cur = conn.cursor()\n",
        "\n",
        "# Execute a query to group the offshore companies by status and sort the list in descending order\n",
        "cur.execute(\"\"\"\n",
        "    SELECT status, COUNT(*) AS num_entities\n",
        "    FROM entity\n",
        "    GROUP BY status\n",
        "    ORDER BY num_entities DESC;\n",
        "\"\"\")\n",
        "\n",
        "# Fetch the result\n",
        "statuses = cur.fetchall()\n",
        "\n",
        "# Close the cursor and the connection\n",
        "cur.close()\n",
        "conn.close()\n",
        "\n",
        "statuses\n"
      ],
      "metadata": {
        "colab": {
          "base_uri": "https://localhost:8080/"
        },
        "id": "nGctJERKMQ6J",
        "outputId": "a0b46850-e204-478c-88dc-0cdb4c9916f5"
      },
      "execution_count": 10,
      "outputs": [
        {
          "output_type": "execute_result",
          "data": {
            "text/plain": [
              "[('Defaulted', 100090),\n",
              " ('Active', 57990),\n",
              " ('Dissolved', 22377),\n",
              " ('Changed agent', 16043),\n",
              " ('Inactivated', 7640),\n",
              " ('Resigned as agent', 3174),\n",
              " ('Shelf company', 2576),\n",
              " ('Dissolved shelf company', 1573),\n",
              " ('Bad debt account', 1416),\n",
              " ('Trash company', 878),\n",
              " ('In transition', 776),\n",
              " ('Relocated in new jurisdiction', 672),\n",
              " ('Discontinued', 423),\n",
              " ('Shelf company not possible to sell', 201),\n",
              " ('In liquidation', 40),\n",
              " ('Change in administration pending', 21),\n",
              " ('Resigned as agent of shelf company', 3),\n",
              " (None, 3)]"
            ]
          },
          "metadata": {},
          "execution_count": 10
        }
      ]
    },
    {
      "cell_type": "markdown",
      "source": [
        "Voici la liste des statuts des sociétés offshores, triée par ordre décroissant du nombre d'entités :\n",
        "\n"
      ],
      "metadata": {
        "id": "6ZsOKJCAM7NB"
      }
    },
    {
      "cell_type": "markdown",
      "source": [
        "Trouver la liste des bénéficiaires dont le nom contient \"BNP\" et ajouter, pour chaque bénéficiaire, le nom des sociétés offshores. Le tout en requête SQL.\n",
        "Pour répondre à cette question, nous devons faire une jointure entre les tables 'officer', 'assoc_officer_entity' et 'entity', puis filtrer les résultats pour les noms d'officiers contenant \"BNP\". Exécutons cette requête maintenant."
      ],
      "metadata": {
        "id": "XV3wwLvSNDUq"
      }
    },
    {
      "cell_type": "code",
      "source": [
        "# Establish a connection to the SQLite database\n",
        "conn = sqlite3.connect(\"/content/panamapapers.sqlite3\")\n",
        "\n",
        "# Create a cursor object\n",
        "cur = conn.cursor()\n",
        "\n",
        "# Execute a query to find the list of officers whose name contains \"BNP\" and add the name of the offshore companies for each officer\n",
        "cur.execute(\"\"\"\n",
        "    SELECT officer.name AS officer_name, entity.name AS entity_name\n",
        "    FROM officer\n",
        "    INNER JOIN assoc_officer_entity ON officer.id = assoc_officer_entity.officer\n",
        "    INNER JOIN entity ON assoc_officer_entity.entity = entity.id\n",
        "    WHERE officer.name LIKE '%BNP%'\n",
        "    ORDER BY officer.name;\n",
        "\"\"\")\n",
        "\n",
        "# Fetch the result\n",
        "officers_with_bnp = cur.fetchall()\n",
        "\n",
        "# Close the cursor and the connection\n",
        "cur.close()\n",
        "conn.close()\n",
        "\n",
        "officers_with_bnp\n"
      ],
      "metadata": {
        "colab": {
          "base_uri": "https://localhost:8080/"
        },
        "id": "6K5PDWmmNIgD",
        "outputId": "75525d67-9c9a-4133-fc9d-bcfe80f47a8a"
      },
      "execution_count": 11,
      "outputs": [
        {
          "output_type": "execute_result",
          "data": {
            "text/plain": [
              "[('BGL BNP PARIBAS SOCIETE ANONYME IN THE NOMINEE OF FORTIS LUXEMBOURG VI',\n",
              "  'DIARIO ASSETS S.A.'),\n",
              " ('BNP JERSEY NOMINEE CO. LTD', 'KARLINGTON LIMITED'),\n",
              " ('BNP JERSEY NOMINEE CO. LTD', 'TATRON LIMITED'),\n",
              " ('BNP JERSEY NOMINEE COMPANY', 'THOR INVESTMENTS LIMITED'),\n",
              " ('BNP JERSEY NOMINEE COMPANY LIMITED', 'TURF OVERSEAS LIMITED'),\n",
              " ('BNP JERSEY NOMINEE COMPANY LIMITED', 'TEMPLEMEAD LIMITED'),\n",
              " ('BNP JERSEY TRUST CORPORATION LIMITED', 'KARLINGTON LIMITED'),\n",
              " ('BNP JERSEY TRUST CORPORATION LIMITED', 'TATRON LIMITED'),\n",
              " ('BNP Jersey Nominee Company Limited', 'SAKI FINANCE LIMITED'),\n",
              " ('BNP Jersey Nominees Company', \"SALLY'S SUNSHINE LTD.\"),\n",
              " ('BNP Jersey Trust Corporation Limited', 'SAKI FINANCE LIMITED'),\n",
              " ('BNP PARIBAS JERSEY NOMINE COMPANY LIMITED', 'MOLDESTAD HOLDING LIMITED'),\n",
              " ('BNP PARIBAS JERSEY NOMINEE COMPANY LIMITED', 'MAJESTIC FINANCE CORP.'),\n",
              " ('BNP PARIBAS JERSEY NOMINEE COMPANY LIMITED',\n",
              "  'DRAGON STRATEGIC INVESTMENT INC.'),\n",
              " ('BNP PARIBAS JERSEY NOMINEE COMPANY LIMITED',\n",
              "  'DRAGON STRATEGIC INVESTMENT INC.'),\n",
              " ('BNP PARIBAS JERSEY NOMINEE COMPANY LIMITED', 'SOUND OF LIGHT LIMITED'),\n",
              " ('BNP PARIBAS JERSEY NOMINEE COMPANY LIMITED', 'VELVET CREST LIMITED'),\n",
              " ('BNP PARIBAS JERSEY NOMINEES COMPANY LIMITED', 'MAJESTIC FINANCE CORP.'),\n",
              " ('BNP PARIBAS JERSEY TRUST', 'THOR INVESTMENTS LIMITED'),\n",
              " ('BNP PARIBAS JERSEY TRUST CORPORATION LIMITED',\n",
              "  'DRAGON STRATEGIC INVESTMENT INC.'),\n",
              " ('BNP PARIBAS JERSEY TRUST CORPORATION LIMITED', 'SALCOM ESTATE LTD.'),\n",
              " ('BNP Paribas (Suisse) SA (which acquired FORTIS BANQUE SUISSE SA by way',\n",
              "  'ACROSTAK CORPORATION'),\n",
              " ('BNP Paribas Jersey Nominee Company Limited', 'LOWDER INVESTMENTS LTD.'),\n",
              " ('BNP Paribas Jersey Nominee Company Limited', 'VELRAY HOLDINGS LIMITED'),\n",
              " ('BNP Paribas Jersey Nominee Company Limited',\n",
              "  'ESSVIN STRATEGIC HOLDING CO. LTD.'),\n",
              " ('BNP Paribas Jersey Nominee Company Limited',\n",
              "  'DRAGON 228 OVERSEAS CORPORATION'),\n",
              " ('BNP Paribas Jersey Nominee Company Limited',\n",
              "  'MANSION HOUSE HOLDINGS LIMITED'),\n",
              " ('BNP Paribas Jersey Nominee Company Limited',\n",
              "  'REDWOOD STRATEGIC HOLDINGS LIMITED'),\n",
              " ('BNP Paribas Jersey Nominee Company Limited', 'HALEX INTERNATIONAL LIMITED'),\n",
              " ('BNP Paribas Jersey Nominee Limited', 'BETHESDA INVESTMENTS S. DE R.L.'),\n",
              " ('BNP Paribas Jersey Nominees Limited', 'TREGARD INTERNATIONAL LTD.'),\n",
              " ('BNP Paribas Jersey Nominess Limited', 'KINRANDA LIMITED'),\n",
              " ('BNP Paribas Jersey Nonminees Limited', 'KINRANDA LIMITED'),\n",
              " ('BNP Paribas Jersey Trsut Corporation Limited',\n",
              "  'REDWOOD STRATEGIC HOLDINGS LIMITED'),\n",
              " ('BNP Paribas Jersey Trust', \"SALLY'S SUNSHINE LTD.\"),\n",
              " ('BNP Paribas Jersey Trust Corporation Limited',\n",
              "  'ESSVIN STRATEGIC HOLDING CO. LTD.'),\n",
              " ('BNP Paribas Jersey Trust Corporation Limited',\n",
              "  'DRAGON 228 OVERSEAS CORPORATION'),\n",
              " ('BNP Paribas Jersey Trust Corporation Limited',\n",
              "  'MANSION HOUSE HOLDINGS LIMITED'),\n",
              " ('BNP Paribas Jersey Trust Corporation Limited',\n",
              "  'TREGARD INTERNATIONAL LTD.'),\n",
              " ('BNP jersey Nominee Company Ltd.', 'EDGARS LIMITED')]"
            ]
          },
          "metadata": {},
          "execution_count": 11
        }
      ]
    },
    {
      "cell_type": "markdown",
      "source": [
        "Voici la liste des bénéficiaires dont le nom contient \"BNP\", ainsi que le nom des sociétés offshores pour chaque bénéficiaire :"
      ],
      "metadata": {
        "id": "aG8sjqAHNPPa"
      }
    }
  ]
}